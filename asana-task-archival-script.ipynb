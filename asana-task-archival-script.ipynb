{
 "cells": [
  {
   "cell_type": "markdown",
   "id": "857ea9ce",
   "metadata": {},
   "source": [
    "# Asana Yearly Task Archival Notebook\n",
    "\n",
    "**Problem:** You have an Asana project board that accumulates tasks over the year. At the end of the year, you want to move all completed tasks from this year to another project called \"Archive Board.\" This script helps with the archive process.\n",
    "\n",
    "To begin, import the following libraries. If you are missing a library, complete the following steps: \n",
    "1. Open a local terminal session, and run `pip3 install <library_name>`. \n",
    "1. Once the library is installed, click **Kernel** > **Restart**."
   ]
  },
  {
   "cell_type": "code",
   "execution_count": null,
   "id": "7dd7b739",
   "metadata": {},
   "outputs": [],
   "source": [
    "import asana\n",
    "import csv\n",
    "import pandas as pd"
   ]
  },
  {
   "cell_type": "markdown",
   "id": "f41ac6ab",
   "metadata": {},
   "source": [
    "## Personal Access Token\n",
    "Obtain your personal access token via Asana. Replace `<INSERT_ASANA_TOKEN>` with this token, and keep it wrapped in quotes. See the \"Personal Access Tokens\" section of the [Asana Developer Docs](https://asana.com/guide/help/api/api) for information on how to create and obtain one. "
   ]
  },
  {
   "cell_type": "code",
   "execution_count": null,
   "id": "1f640b21",
   "metadata": {},
   "outputs": [],
   "source": [
    "personal_access_token =\"<INSERT_ASANA_TOKEN>\""
   ]
  },
  {
   "cell_type": "markdown",
   "id": "b80fe4cb",
   "metadata": {},
   "source": [
    "## Getting Section IDs\n",
    "\n",
    "Use the [API Reference](https://developers.asana.com/reference/rest-api-reference) to find the IDs for boards and sections. \n",
    "\n",
    "> **IMPORTANT**: If you use the same archive board each year with tasks for that year separated by section, you will need to add a new section to the Archive board for that particular year. Then, obtain that section's ID.\n",
    "\n",
    "1. From the left navigation menu, click **Sections** > **Get sections in a project**. \n",
    "1. For `project_gid`, enter the project board's ID. To obtain the project ID, go to the Asana board for that project. The ID is found in the URL.\n",
    "1. For **Authorization**, select **Bearer** and add your personal access token.\n",
    "1. Click **Try It!**. Observe the JSON response with all section names and IDs for that board. Replace the placeholders in this notebook with the appropriate IDs."
   ]
  },
  {
   "cell_type": "markdown",
   "id": "46c1b6f6",
   "metadata": {},
   "source": [
    "# Functions\n",
    "Run these cells to store the functions in memory."
   ]
  },
  {
   "cell_type": "markdown",
   "id": "89468de7",
   "metadata": {},
   "source": [
    "## Obtain All Tasks from Original Board Location"
   ]
  },
  {
   "cell_type": "code",
   "execution_count": null,
   "id": "d8c26120",
   "metadata": {},
   "outputs": [],
   "source": [
    "def get_all_tasks(output_file, original_project):\n",
    "    '''Obtains all tasks for project and write to a csv file defined in the function variables\n",
    "        You can use the csv file to track all tasks that were moved in case of errors'''\n",
    "    file = open(output_file, \"w\")\n",
    "    fieldnames= [\"gid\", \"name\", \"completed\"]\n",
    "    writer = csv.DictWriter(file, fieldnames=fieldnames)\n",
    "    writer.writeheader()\n",
    "\n",
    "    result = client.tasks.get_tasks_for_project(original_project, opt_fields=[\"name\", \"completed\"], opt_pretty=True)\n",
    "\n",
    "    writer.writerows(list(result))\n",
    "    file.close()"
   ]
  },
  {
   "cell_type": "markdown",
   "id": "df1a31bb",
   "metadata": {},
   "source": [
    "## Clean CSV File to Show Only Completed Tasks"
   ]
  },
  {
   "cell_type": "code",
   "execution_count": null,
   "id": "d2190dfb",
   "metadata": {},
   "outputs": [],
   "source": [
    "def clean_task_file(input_file, output_file):\n",
    "    '''Opens created csv and creates a new, cleaned csv with only completed tasks'''\n",
    "    df = pd.read_csv(input_file)\n",
    "    df_clean = df[df[\"completed\"] == True]\n",
    "    df_clean.to_csv(output_file)"
   ]
  },
  {
   "cell_type": "markdown",
   "id": "95900109",
   "metadata": {},
   "source": [
    "## Move to Corresponding Archive Project"
   ]
  },
  {
   "cell_type": "code",
   "execution_count": null,
   "id": "acfd8aae",
   "metadata": {},
   "outputs": [],
   "source": [
    "def archive_tasks(input_file, archive_project, archive_section, original_project):\n",
    "    '''Adds Archive project to each task as well as the correct section and removes it from the original project '''\n",
    "    file = input_file\n",
    "    rows = []\n",
    "    \n",
    "    with open(file, \"r\") as csvfile:\n",
    "        csvreader = csv.reader(csvfile)\n",
    "        fields = next(csvreader) #remove headers\n",
    "        for row in csvreader:\n",
    "            rows.append(row)\n",
    "\n",
    "    for row in rows:\n",
    "        update_task_project = client.tasks.add_project_for_task(row[1], {\"project\": archive_project, \"section\": archive_section}, opt_pretty=True)\n",
    "        remove_project = client.tasks.remove_project_for_task(row[1], {\"project\": original_project}, opt_pretty=True)\n"
   ]
  },
  {
   "cell_type": "markdown",
   "id": "7bc65c1f",
   "metadata": {},
   "source": [
    "# Archive Process"
   ]
  },
  {
   "cell_type": "code",
   "execution_count": null,
   "id": "fb8ea4a9",
   "metadata": {},
   "outputs": [],
   "source": [
    "original_project = \"<ORIGINAL_PROJECT_ID\" \n",
    "archive_project = \"<ARCHIVE_PROJECT_ID>\"\n",
    "archive_section = \"<ARCHIVE_SECTION_ID\" #You will need to add a new section id for the year "
   ]
  },
  {
   "cell_type": "markdown",
   "id": "fadbe5f0",
   "metadata": {},
   "source": [
    "## Obtain All Tasks from Original Project Board and Clean File"
   ]
  },
  {
   "cell_type": "code",
   "execution_count": null,
   "id": "fb2c8879",
   "metadata": {},
   "outputs": [],
   "source": [
    "client = asana.Client.access_token(personal_access_token)\n",
    "get_all_tasks(\"tasks.csv\", original_project)\n",
    "clean_task_file(\"tasks.csv\", \"done_tasks_cleaned.csv\")"
   ]
  },
  {
   "cell_type": "markdown",
   "id": "bbb5839e",
   "metadata": {},
   "source": [
    "## Add the Archive Project Board and Remove from Original Board"
   ]
  },
  {
   "cell_type": "code",
   "execution_count": null,
   "id": "9f0baa06",
   "metadata": {},
   "outputs": [],
   "source": [
    "archive_tasks(\"done_tasks_cleaned.csv\", archive_project, archive_section, original_project)"
   ]
  }
 ],
 "metadata": {
  "kernelspec": {
   "display_name": "Python 3 (ipykernel)",
   "language": "python",
   "name": "python3"
  },
  "language_info": {
   "codemirror_mode": {
    "name": "ipython",
    "version": 3
   },
   "file_extension": ".py",
   "mimetype": "text/x-python",
   "name": "python",
   "nbconvert_exporter": "python",
   "pygments_lexer": "ipython3",
   "version": "3.9.13"
  }
 },
 "nbformat": 4,
 "nbformat_minor": 5
}
